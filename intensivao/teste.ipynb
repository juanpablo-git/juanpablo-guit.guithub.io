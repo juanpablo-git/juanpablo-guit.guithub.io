{
 "cells": [
  {
   "cell_type": "code",
   "execution_count": 213,
   "metadata": {},
   "outputs": [
    {
     "data": {
      "text/html": [
       "<div>\n",
       "<style scoped>\n",
       "    .dataframe tbody tr th:only-of-type {\n",
       "        vertical-align: middle;\n",
       "    }\n",
       "\n",
       "    .dataframe tbody tr th {\n",
       "        vertical-align: top;\n",
       "    }\n",
       "\n",
       "    .dataframe thead th {\n",
       "        text-align: right;\n",
       "    }\n",
       "</style>\n",
       "<table border=\"1\" class=\"dataframe\">\n",
       "  <thead>\n",
       "    <tr style=\"text-align: right;\">\n",
       "      <th></th>\n",
       "      <th>id</th>\n",
       "      <th>date</th>\n",
       "      <th>price</th>\n",
       "      <th>bedrooms</th>\n",
       "      <th>bathrooms</th>\n",
       "      <th>sqft_living</th>\n",
       "      <th>sqft_lot</th>\n",
       "      <th>floors</th>\n",
       "      <th>waterfront</th>\n",
       "      <th>view</th>\n",
       "      <th>...</th>\n",
       "      <th>grade</th>\n",
       "      <th>sqft_above</th>\n",
       "      <th>sqft_basement</th>\n",
       "      <th>yr_built</th>\n",
       "      <th>yr_renovated</th>\n",
       "      <th>zipcode</th>\n",
       "      <th>lat</th>\n",
       "      <th>long</th>\n",
       "      <th>sqft_living15</th>\n",
       "      <th>sqft_lot15</th>\n",
       "    </tr>\n",
       "  </thead>\n",
       "  <tbody>\n",
       "    <tr>\n",
       "      <th>0</th>\n",
       "      <td>7129300520</td>\n",
       "      <td>20141013T000000</td>\n",
       "      <td>221900.0</td>\n",
       "      <td>3</td>\n",
       "      <td>1.00</td>\n",
       "      <td>1180</td>\n",
       "      <td>5650</td>\n",
       "      <td>1.0</td>\n",
       "      <td>0</td>\n",
       "      <td>0</td>\n",
       "      <td>...</td>\n",
       "      <td>7</td>\n",
       "      <td>1180</td>\n",
       "      <td>0</td>\n",
       "      <td>1955</td>\n",
       "      <td>0</td>\n",
       "      <td>98178</td>\n",
       "      <td>47.5112</td>\n",
       "      <td>-122.257</td>\n",
       "      <td>1340</td>\n",
       "      <td>5650</td>\n",
       "    </tr>\n",
       "    <tr>\n",
       "      <th>1</th>\n",
       "      <td>6414100192</td>\n",
       "      <td>20141209T000000</td>\n",
       "      <td>538000.0</td>\n",
       "      <td>3</td>\n",
       "      <td>2.25</td>\n",
       "      <td>2570</td>\n",
       "      <td>7242</td>\n",
       "      <td>2.0</td>\n",
       "      <td>0</td>\n",
       "      <td>0</td>\n",
       "      <td>...</td>\n",
       "      <td>7</td>\n",
       "      <td>2170</td>\n",
       "      <td>400</td>\n",
       "      <td>1951</td>\n",
       "      <td>1991</td>\n",
       "      <td>98125</td>\n",
       "      <td>47.7210</td>\n",
       "      <td>-122.319</td>\n",
       "      <td>1690</td>\n",
       "      <td>7639</td>\n",
       "    </tr>\n",
       "    <tr>\n",
       "      <th>2</th>\n",
       "      <td>5631500400</td>\n",
       "      <td>20150225T000000</td>\n",
       "      <td>180000.0</td>\n",
       "      <td>2</td>\n",
       "      <td>1.00</td>\n",
       "      <td>770</td>\n",
       "      <td>10000</td>\n",
       "      <td>1.0</td>\n",
       "      <td>0</td>\n",
       "      <td>0</td>\n",
       "      <td>...</td>\n",
       "      <td>6</td>\n",
       "      <td>770</td>\n",
       "      <td>0</td>\n",
       "      <td>1933</td>\n",
       "      <td>0</td>\n",
       "      <td>98028</td>\n",
       "      <td>47.7379</td>\n",
       "      <td>-122.233</td>\n",
       "      <td>2720</td>\n",
       "      <td>8062</td>\n",
       "    </tr>\n",
       "    <tr>\n",
       "      <th>3</th>\n",
       "      <td>2487200875</td>\n",
       "      <td>20141209T000000</td>\n",
       "      <td>604000.0</td>\n",
       "      <td>4</td>\n",
       "      <td>3.00</td>\n",
       "      <td>1960</td>\n",
       "      <td>5000</td>\n",
       "      <td>1.0</td>\n",
       "      <td>0</td>\n",
       "      <td>0</td>\n",
       "      <td>...</td>\n",
       "      <td>7</td>\n",
       "      <td>1050</td>\n",
       "      <td>910</td>\n",
       "      <td>1965</td>\n",
       "      <td>0</td>\n",
       "      <td>98136</td>\n",
       "      <td>47.5208</td>\n",
       "      <td>-122.393</td>\n",
       "      <td>1360</td>\n",
       "      <td>5000</td>\n",
       "    </tr>\n",
       "    <tr>\n",
       "      <th>4</th>\n",
       "      <td>1954400510</td>\n",
       "      <td>20150218T000000</td>\n",
       "      <td>510000.0</td>\n",
       "      <td>3</td>\n",
       "      <td>2.00</td>\n",
       "      <td>1680</td>\n",
       "      <td>8080</td>\n",
       "      <td>1.0</td>\n",
       "      <td>0</td>\n",
       "      <td>0</td>\n",
       "      <td>...</td>\n",
       "      <td>8</td>\n",
       "      <td>1680</td>\n",
       "      <td>0</td>\n",
       "      <td>1987</td>\n",
       "      <td>0</td>\n",
       "      <td>98074</td>\n",
       "      <td>47.6168</td>\n",
       "      <td>-122.045</td>\n",
       "      <td>1800</td>\n",
       "      <td>7503</td>\n",
       "    </tr>\n",
       "  </tbody>\n",
       "</table>\n",
       "<p>5 rows × 21 columns</p>\n",
       "</div>"
      ],
      "text/plain": [
       "           id             date     price  bedrooms  bathrooms  sqft_living  \\\n",
       "0  7129300520  20141013T000000  221900.0         3       1.00         1180   \n",
       "1  6414100192  20141209T000000  538000.0         3       2.25         2570   \n",
       "2  5631500400  20150225T000000  180000.0         2       1.00          770   \n",
       "3  2487200875  20141209T000000  604000.0         4       3.00         1960   \n",
       "4  1954400510  20150218T000000  510000.0         3       2.00         1680   \n",
       "\n",
       "   sqft_lot  floors  waterfront  view  ...  grade  sqft_above  sqft_basement  \\\n",
       "0      5650     1.0           0     0  ...      7        1180              0   \n",
       "1      7242     2.0           0     0  ...      7        2170            400   \n",
       "2     10000     1.0           0     0  ...      6         770              0   \n",
       "3      5000     1.0           0     0  ...      7        1050            910   \n",
       "4      8080     1.0           0     0  ...      8        1680              0   \n",
       "\n",
       "   yr_built  yr_renovated  zipcode      lat     long  sqft_living15  \\\n",
       "0      1955             0    98178  47.5112 -122.257           1340   \n",
       "1      1951          1991    98125  47.7210 -122.319           1690   \n",
       "2      1933             0    98028  47.7379 -122.233           2720   \n",
       "3      1965             0    98136  47.5208 -122.393           1360   \n",
       "4      1987             0    98074  47.6168 -122.045           1800   \n",
       "\n",
       "   sqft_lot15  \n",
       "0        5650  \n",
       "1        7639  \n",
       "2        8062  \n",
       "3        5000  \n",
       "4        7503  \n",
       "\n",
       "[5 rows x 21 columns]"
      ]
     },
     "execution_count": 213,
     "metadata": {},
     "output_type": "execute_result"
    }
   ],
   "source": [
    "import pandas as pd\n",
    "base = pd.read_csv(\"house_prices.csv\")\n",
    "base.head()"
   ]
  },
  {
   "cell_type": "code",
   "execution_count": 214,
   "metadata": {},
   "outputs": [
    {
     "data": {
      "text/plain": [
       "(21613, 21)"
      ]
     },
     "execution_count": 214,
     "metadata": {},
     "output_type": "execute_result"
    }
   ],
   "source": [
    "base.shape"
   ]
  },
  {
   "cell_type": "code",
   "execution_count": 215,
   "metadata": {},
   "outputs": [
    {
     "data": {
      "text/plain": [
       "array([[221900.],\n",
       "       [538000.],\n",
       "       [180000.],\n",
       "       ...,\n",
       "       [402101.],\n",
       "       [400000.],\n",
       "       [325000.]])"
      ]
     },
     "execution_count": 215,
     "metadata": {},
     "output_type": "execute_result"
    }
   ],
   "source": [
    "X = base.iloc[:,5:6].values\n",
    "Y = base.iloc[:,2:3].values\n",
    "Y"
   ]
  },
  {
   "cell_type": "code",
   "execution_count": 216,
   "metadata": {},
   "outputs": [],
   "source": [
    "from sklearn.preprocessing import StandardScaler\n",
    "scaler_x = StandardScaler()\n",
    "x = scaler_x.fit_transform(X)\n",
    "scaler_y = StandardScaler()\n",
    "y = scaler_y.fit_transform(Y)"
   ]
  },
  {
   "cell_type": "code",
   "execution_count": 217,
   "metadata": {},
   "outputs": [],
   "source": [
    "import tensorflow as tf"
   ]
  },
  {
   "cell_type": "code",
   "execution_count": 218,
   "metadata": {},
   "outputs": [
    {
     "data": {
      "text/plain": [
       "[NumericColumn(key='x', shape=(1,), default_value=None, dtype=tf.float32, normalizer_fn=None)]"
      ]
     },
     "execution_count": 218,
     "metadata": {},
     "output_type": "execute_result"
    }
   ],
   "source": [
    "colunas = [tf.feature_column.numeric_column('x',shape=[1])]\n",
    "colunas"
   ]
  },
  {
   "cell_type": "code",
   "execution_count": 219,
   "metadata": {},
   "outputs": [
    {
     "name": "stdout",
     "output_type": "stream",
     "text": [
      "INFO:tensorflow:Using default config.\n",
      "WARNING:tensorflow:Using temporary folder as model directory: /tmp/tmps5k2z2hu\n",
      "INFO:tensorflow:Using config: {'_model_dir': '/tmp/tmps5k2z2hu', '_tf_random_seed': None, '_save_summary_steps': 100, '_save_checkpoints_steps': None, '_save_checkpoints_secs': 600, '_session_config': allow_soft_placement: true\n",
      "graph_options {\n",
      "  rewrite_options {\n",
      "    meta_optimizer_iterations: ONE\n",
      "  }\n",
      "}\n",
      ", '_keep_checkpoint_max': 5, '_keep_checkpoint_every_n_hours': 10000, '_log_step_count_steps': 100, '_train_distribute': None, '_device_fn': None, '_protocol': None, '_eval_distribute': None, '_experimental_distribute': None, '_experimental_max_worker_delay_secs': None, '_session_creation_timeout_secs': 7200, '_checkpoint_save_graph_def': True, '_service': None, '_cluster_spec': ClusterSpec({}), '_task_type': 'worker', '_task_id': 0, '_global_id_in_cluster': 0, '_master': '', '_evaluation_master': '', '_is_chief': True, '_num_ps_replicas': 0, '_num_worker_replicas': 1}\n"
     ]
    }
   ],
   "source": [
    "regressor = tf.estimator.LinearRegressor(feature_columns=colunas)"
   ]
  },
  {
   "cell_type": "code",
   "execution_count": 220,
   "metadata": {},
   "outputs": [],
   "source": [
    "from sklearn.model_selection import train_test_split\n",
    "\n",
    "X_treinamento,X_teste,Y_treinamento,Y_teste = train_test_split(x,y,test_size= 0.3)"
   ]
  },
  {
   "cell_type": "code",
   "execution_count": 221,
   "metadata": {},
   "outputs": [],
   "source": [
    "funcao_treinamento = tf.compat.v1.estimator.inputs.numpy_input_fn({'x':X_treinamento},Y_treinamento,batch_size = 32,num_epochs = None , shuffle = True)"
   ]
  },
  {
   "cell_type": "code",
   "execution_count": 222,
   "metadata": {},
   "outputs": [],
   "source": [
    "funcao_teste = tf.compat.v1.estimator.inputs.numpy_input_fn({'x':X_teste},Y_teste,batch_size=32,num_epochs=1000,shuffle=False)"
   ]
  },
  {
   "cell_type": "code",
   "execution_count": 223,
   "metadata": {},
   "outputs": [
    {
     "name": "stdout",
     "output_type": "stream",
     "text": [
      "INFO:tensorflow:Calling model_fn.\n",
      "INFO:tensorflow:Done calling model_fn.\n",
      "INFO:tensorflow:Create CheckpointSaverHook.\n",
      "INFO:tensorflow:Graph was finalized.\n",
      "INFO:tensorflow:Running local_init_op.\n",
      "INFO:tensorflow:Done running local_init_op.\n",
      "INFO:tensorflow:Calling checkpoint listeners before saving checkpoint 0...\n",
      "INFO:tensorflow:Saving checkpoints for 0 into /tmp/tmps5k2z2hu/model.ckpt.\n",
      "INFO:tensorflow:/tmp/tmps5k2z2hu/model.ckpt-0.meta\n",
      "INFO:tensorflow:100\n",
      "INFO:tensorflow:/tmp/tmps5k2z2hu/model.ckpt-0.data-00000-of-00001\n",
      "INFO:tensorflow:100\n",
      "INFO:tensorflow:/tmp/tmps5k2z2hu/model.ckpt-0.index\n",
      "INFO:tensorflow:100\n",
      "INFO:tensorflow:Calling checkpoint listeners after saving checkpoint 0...\n",
      "INFO:tensorflow:loss = 0.43398345, step = 0\n",
      "INFO:tensorflow:global_step/sec: 858.073\n",
      "INFO:tensorflow:loss = 0.29674768, step = 100 (0.118 sec)\n",
      "INFO:tensorflow:global_step/sec: 957.335\n",
      "INFO:tensorflow:loss = 0.2314049, step = 200 (0.106 sec)\n",
      "INFO:tensorflow:global_step/sec: 893.607\n",
      "INFO:tensorflow:loss = 0.28125012, step = 300 (0.111 sec)\n",
      "INFO:tensorflow:global_step/sec: 989.598\n",
      "INFO:tensorflow:loss = 0.35211098, step = 400 (0.100 sec)\n",
      "INFO:tensorflow:global_step/sec: 977.386\n",
      "INFO:tensorflow:loss = 0.3536647, step = 500 (0.103 sec)\n",
      "INFO:tensorflow:global_step/sec: 977.024\n",
      "INFO:tensorflow:loss = 0.2787479, step = 600 (0.103 sec)\n",
      "INFO:tensorflow:global_step/sec: 986.262\n",
      "INFO:tensorflow:loss = 0.92898655, step = 700 (0.100 sec)\n",
      "INFO:tensorflow:global_step/sec: 1006.01\n",
      "INFO:tensorflow:loss = 0.14770135, step = 800 (0.101 sec)\n",
      "INFO:tensorflow:global_step/sec: 899.903\n",
      "INFO:tensorflow:loss = 0.35265374, step = 900 (0.111 sec)\n",
      "INFO:tensorflow:global_step/sec: 1002.78\n",
      "INFO:tensorflow:loss = 0.85393035, step = 1000 (0.099 sec)\n",
      "INFO:tensorflow:global_step/sec: 1010.78\n",
      "INFO:tensorflow:loss = 0.77775013, step = 1100 (0.098 sec)\n",
      "INFO:tensorflow:global_step/sec: 987.515\n",
      "INFO:tensorflow:loss = 0.23327434, step = 1200 (0.102 sec)\n",
      "INFO:tensorflow:global_step/sec: 988.53\n",
      "INFO:tensorflow:loss = 0.26674247, step = 1300 (0.100 sec)\n",
      "INFO:tensorflow:global_step/sec: 1045.38\n",
      "INFO:tensorflow:loss = 1.1038996, step = 1400 (0.097 sec)\n",
      "INFO:tensorflow:global_step/sec: 959.758\n",
      "INFO:tensorflow:loss = 0.5668709, step = 1500 (0.103 sec)\n",
      "INFO:tensorflow:global_step/sec: 920.607\n",
      "INFO:tensorflow:loss = 0.7863037, step = 1600 (0.111 sec)\n",
      "INFO:tensorflow:global_step/sec: 953.572\n",
      "INFO:tensorflow:loss = 0.3311985, step = 1700 (0.103 sec)\n",
      "INFO:tensorflow:global_step/sec: 909.169\n",
      "INFO:tensorflow:loss = 0.23387975, step = 1800 (0.110 sec)\n",
      "INFO:tensorflow:global_step/sec: 943.21\n",
      "INFO:tensorflow:loss = 0.76695496, step = 1900 (0.107 sec)\n",
      "INFO:tensorflow:global_step/sec: 1012.14\n",
      "INFO:tensorflow:loss = 0.34129256, step = 2000 (0.097 sec)\n",
      "INFO:tensorflow:global_step/sec: 1013\n",
      "INFO:tensorflow:loss = 0.34988928, step = 2100 (0.099 sec)\n",
      "INFO:tensorflow:global_step/sec: 988.297\n",
      "INFO:tensorflow:loss = 0.8198192, step = 2200 (0.101 sec)\n",
      "INFO:tensorflow:global_step/sec: 991.189\n",
      "INFO:tensorflow:loss = 0.46606368, step = 2300 (0.102 sec)\n",
      "INFO:tensorflow:global_step/sec: 977.108\n",
      "INFO:tensorflow:loss = 0.50384474, step = 2400 (0.102 sec)\n",
      "INFO:tensorflow:global_step/sec: 947.822\n",
      "INFO:tensorflow:loss = 0.30703518, step = 2500 (0.104 sec)\n",
      "INFO:tensorflow:global_step/sec: 1003.33\n",
      "INFO:tensorflow:loss = 0.64478886, step = 2600 (0.101 sec)\n",
      "INFO:tensorflow:global_step/sec: 929.65\n",
      "INFO:tensorflow:loss = 0.46048588, step = 2700 (0.106 sec)\n",
      "INFO:tensorflow:global_step/sec: 982.519\n",
      "INFO:tensorflow:loss = 0.1175064, step = 2800 (0.105 sec)\n",
      "INFO:tensorflow:global_step/sec: 1017.03\n",
      "INFO:tensorflow:loss = 0.45836404, step = 2900 (0.097 sec)\n",
      "INFO:tensorflow:global_step/sec: 962.902\n",
      "INFO:tensorflow:loss = 0.6349162, step = 3000 (0.103 sec)\n",
      "INFO:tensorflow:global_step/sec: 995.555\n",
      "INFO:tensorflow:loss = 0.33475024, step = 3101 (0.101 sec)\n",
      "INFO:tensorflow:global_step/sec: 1012.73\n",
      "INFO:tensorflow:loss = 0.19448534, step = 3200 (0.097 sec)\n",
      "INFO:tensorflow:global_step/sec: 993.454\n",
      "INFO:tensorflow:loss = 0.42860544, step = 3300 (0.103 sec)\n",
      "INFO:tensorflow:global_step/sec: 954.911\n",
      "INFO:tensorflow:loss = 0.39495844, step = 3400 (0.103 sec)\n",
      "INFO:tensorflow:global_step/sec: 1023.47\n",
      "INFO:tensorflow:loss = 0.43687737, step = 3500 (0.100 sec)\n",
      "INFO:tensorflow:global_step/sec: 969.788\n",
      "INFO:tensorflow:loss = 0.4029574, step = 3600 (0.103 sec)\n",
      "INFO:tensorflow:global_step/sec: 904.596\n",
      "INFO:tensorflow:loss = 0.35040012, step = 3700 (0.109 sec)\n",
      "INFO:tensorflow:global_step/sec: 980.232\n",
      "INFO:tensorflow:loss = 0.245109, step = 3800 (0.102 sec)\n",
      "INFO:tensorflow:global_step/sec: 974.149\n",
      "INFO:tensorflow:loss = 0.44315052, step = 3900 (0.102 sec)\n",
      "INFO:tensorflow:global_step/sec: 993.365\n",
      "INFO:tensorflow:loss = 0.60069215, step = 4000 (0.101 sec)\n",
      "INFO:tensorflow:global_step/sec: 1036.12\n",
      "INFO:tensorflow:loss = 0.5184274, step = 4100 (0.098 sec)\n",
      "INFO:tensorflow:global_step/sec: 989.029\n",
      "INFO:tensorflow:loss = 0.43668285, step = 4200 (0.099 sec)\n",
      "INFO:tensorflow:global_step/sec: 1031.52\n",
      "INFO:tensorflow:loss = 0.6770424, step = 4300 (0.099 sec)\n",
      "INFO:tensorflow:global_step/sec: 1002.6\n",
      "INFO:tensorflow:loss = 0.3046569, step = 4400 (0.100 sec)\n",
      "INFO:tensorflow:global_step/sec: 886.046\n",
      "INFO:tensorflow:loss = 1.0760835, step = 4500 (0.110 sec)\n",
      "INFO:tensorflow:global_step/sec: 964.871\n",
      "INFO:tensorflow:loss = 0.48390937, step = 4600 (0.104 sec)\n",
      "INFO:tensorflow:global_step/sec: 1052.42\n",
      "INFO:tensorflow:loss = 0.19305128, step = 4700 (0.098 sec)\n"
     ]
    }
   ],
   "source": [
    "regressor.train(input_fn= funcao_treinamento,steps=10000)"
   ]
  },
  {
   "cell_type": "code",
   "execution_count": null,
   "metadata": {},
   "outputs": [
    {
     "name": "stdout",
     "output_type": "stream",
     "text": [
      "INFO:tensorflow:Calling model_fn.\n",
      "INFO:tensorflow:Done calling model_fn.\n",
      "INFO:tensorflow:Starting evaluation at 2022-10-05T13:55:08\n",
      "INFO:tensorflow:Graph was finalized.\n",
      "INFO:tensorflow:Restoring parameters from /tmp/tmpq3o18un8/model.ckpt-10000\n",
      "INFO:tensorflow:Running local_init_op.\n",
      "INFO:tensorflow:Done running local_init_op.\n",
      "INFO:tensorflow:Evaluation [1000/10000]\n",
      "INFO:tensorflow:Evaluation [2000/10000]\n",
      "INFO:tensorflow:Evaluation [3000/10000]\n",
      "INFO:tensorflow:Evaluation [4000/10000]\n",
      "INFO:tensorflow:Evaluation [5000/10000]\n",
      "INFO:tensorflow:Evaluation [6000/10000]\n",
      "INFO:tensorflow:Evaluation [7000/10000]\n",
      "INFO:tensorflow:Evaluation [8000/10000]\n",
      "INFO:tensorflow:Evaluation [9000/10000]\n",
      "INFO:tensorflow:Evaluation [10000/10000]\n",
      "INFO:tensorflow:Inference Time : 7.71038s\n",
      "INFO:tensorflow:Finished evaluation at 2022-10-05-13:55:16\n",
      "INFO:tensorflow:Saving dict for global step 10000: average_loss = 0.5118256, global_step = 10000, label/mean = -0.0021141402, loss = 0.5118256, prediction/mean = -0.0033336105\n",
      "INFO:tensorflow:Saving 'checkpoint_path' summary for global step 10000: /tmp/tmpq3o18un8/model.ckpt-10000\n"
     ]
    }
   ],
   "source": [
    "metricas_treinamento = regressor.evaluate(input_fn=funcao_treinamento,steps=10000)"
   ]
  },
  {
   "cell_type": "code",
   "execution_count": null,
   "metadata": {},
   "outputs": [
    {
     "name": "stdout",
     "output_type": "stream",
     "text": [
      "INFO:tensorflow:Calling model_fn.\n",
      "INFO:tensorflow:Done calling model_fn.\n",
      "INFO:tensorflow:Starting evaluation at 2022-10-05T13:55:16\n",
      "INFO:tensorflow:Graph was finalized.\n",
      "INFO:tensorflow:Restoring parameters from /tmp/tmpq3o18un8/model.ckpt-10000\n",
      "INFO:tensorflow:Running local_init_op.\n",
      "INFO:tensorflow:Done running local_init_op.\n",
      "INFO:tensorflow:Evaluation [1000/10000]\n",
      "INFO:tensorflow:Evaluation [2000/10000]\n",
      "INFO:tensorflow:Evaluation [3000/10000]\n",
      "INFO:tensorflow:Evaluation [4000/10000]\n",
      "INFO:tensorflow:Evaluation [5000/10000]\n",
      "INFO:tensorflow:Evaluation [6000/10000]\n",
      "INFO:tensorflow:Evaluation [7000/10000]\n",
      "INFO:tensorflow:Evaluation [8000/10000]\n",
      "INFO:tensorflow:Evaluation [9000/10000]\n",
      "INFO:tensorflow:Evaluation [10000/10000]\n",
      "INFO:tensorflow:Inference Time : 9.26268s\n",
      "INFO:tensorflow:Finished evaluation at 2022-10-05-13:55:25\n",
      "INFO:tensorflow:Saving dict for global step 10000: average_loss = 0.49574444, global_step = 10000, label/mean = 0.004642472, loss = 0.49574444, prediction/mean = 0.012899136\n",
      "INFO:tensorflow:Saving 'checkpoint_path' summary for global step 10000: /tmp/tmpq3o18un8/model.ckpt-10000\n"
     ]
    }
   ],
   "source": [
    "metricas_teste = regressor.evaluate(input_fn=funcao_teste,steps=10000)"
   ]
  },
  {
   "cell_type": "code",
   "execution_count": null,
   "metadata": {},
   "outputs": [
    {
     "data": {
      "text/plain": [
       "{'average_loss': 0.5118256,\n",
       " 'label/mean': -0.0021141402,\n",
       " 'loss': 0.5118256,\n",
       " 'prediction/mean': -0.0033336105,\n",
       " 'global_step': 10000}"
      ]
     },
     "execution_count": 206,
     "metadata": {},
     "output_type": "execute_result"
    }
   ],
   "source": [
    "metricas_treinamento"
   ]
  },
  {
   "cell_type": "code",
   "execution_count": null,
   "metadata": {},
   "outputs": [
    {
     "data": {
      "text/plain": [
       "{'average_loss': 0.49574444,\n",
       " 'label/mean': 0.004642472,\n",
       " 'loss': 0.49574444,\n",
       " 'prediction/mean': 0.012899136,\n",
       " 'global_step': 10000}"
      ]
     },
     "execution_count": 207,
     "metadata": {},
     "output_type": "execute_result"
    }
   ],
   "source": [
    "metricas_teste"
   ]
  },
  {
   "cell_type": "code",
   "execution_count": null,
   "metadata": {},
   "outputs": [
    {
     "data": {
      "text/plain": [
       "array([[-1.39358923],\n",
       "       [-1.28470655],\n",
       "       [-1.17582386],\n",
       "       [-0.97983502]])"
      ]
     },
     "execution_count": 208,
     "metadata": {},
     "output_type": "execute_result"
    }
   ],
   "source": [
    "import numpy as np\n",
    "novas_casas = np.array([[800],[900],[1000],[1180]])\n",
    "novas_casas = scaler_x.transform(novas_casas)\n",
    "novas_casas"
   ]
  },
  {
   "cell_type": "code",
   "execution_count": null,
   "metadata": {},
   "outputs": [],
   "source": [
    "funcao_previsao = tf.compat.v1.estimator.inputs.numpy_input_fn({'x':novas_casas},shuffle=False)"
   ]
  },
  {
   "cell_type": "code",
   "execution_count": null,
   "metadata": {},
   "outputs": [],
   "source": [
    "previsoes = regressor.predict(input_fn= funcao_previsao)"
   ]
  },
  {
   "cell_type": "code",
   "execution_count": null,
   "metadata": {},
   "outputs": [
    {
     "name": "stdout",
     "output_type": "stream",
     "text": [
      "INFO:tensorflow:Calling model_fn.\n",
      "INFO:tensorflow:Done calling model_fn.\n",
      "INFO:tensorflow:Graph was finalized.\n",
      "INFO:tensorflow:Restoring parameters from /tmp/tmpq3o18un8/model.ckpt-10000\n",
      "INFO:tensorflow:Running local_init_op.\n",
      "INFO:tensorflow:Done running local_init_op.\n"
     ]
    },
    {
     "data": {
      "text/plain": [
       "[{'predictions': array([-0.95253503], dtype=float32)},\n",
       " {'predictions': array([-0.8779915], dtype=float32)},\n",
       " {'predictions': array([-0.8034479], dtype=float32)},\n",
       " {'predictions': array([-0.66926956], dtype=float32)}]"
      ]
     },
     "execution_count": 211,
     "metadata": {},
     "output_type": "execute_result"
    }
   ],
   "source": [
    "list(previsoes)"
   ]
  },
  {
   "cell_type": "code",
   "execution_count": null,
   "metadata": {},
   "outputs": [
    {
     "name": "stdout",
     "output_type": "stream",
     "text": [
      "INFO:tensorflow:Calling model_fn.\n",
      "INFO:tensorflow:Done calling model_fn.\n",
      "INFO:tensorflow:Graph was finalized.\n",
      "INFO:tensorflow:Restoring parameters from /tmp/tmpq3o18un8/model.ckpt-10000\n",
      "INFO:tensorflow:Running local_init_op.\n",
      "INFO:tensorflow:Done running local_init_op.\n",
      "[[190394.71563377]]\n",
      "[[217761.04179395]]\n",
      "[[245127.38983611]]\n",
      "[[294386.76817165]]\n"
     ]
    }
   ],
   "source": [
    "for p in regressor.predict(input_fn=funcao_previsao):\n",
    "   # print(p['predictions'])\n",
    "   print(scaler_y.inverse_transform([p['predictions']]))"
   ]
  }
 ],
 "metadata": {
  "kernelspec": {
   "display_name": "Python 3.8.10 64-bit",
   "language": "python",
   "name": "python3"
  },
  "language_info": {
   "codemirror_mode": {
    "name": "ipython",
    "version": 3
   },
   "file_extension": ".py",
   "mimetype": "text/x-python",
   "name": "python",
   "nbconvert_exporter": "python",
   "pygments_lexer": "ipython3",
   "version": "3.8.10"
  },
  "orig_nbformat": 4,
  "vscode": {
   "interpreter": {
    "hash": "916dbcbb3f70747c44a77c7bcd40155683ae19c65e1c03b4aa3499c5328201f1"
   }
  }
 },
 "nbformat": 4,
 "nbformat_minor": 2
}
